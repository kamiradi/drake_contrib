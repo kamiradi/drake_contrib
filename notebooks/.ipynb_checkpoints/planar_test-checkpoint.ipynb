{
 "cells": [
  {
   "cell_type": "code",
   "execution_count": 1,
   "id": "c14f4f73-0195-4afc-a72d-e7286af7a844",
   "metadata": {},
   "outputs": [
    {
     "ename": "ImportError",
     "evalue": "cannot import name '_MakeConvexHull' from 'pydrake.geometry' (/usr/local/lib/python3.10/dist-packages/pydrake/geometry/__init__.cpython-310-x86_64-linux-gnu.so)",
     "output_type": "error",
     "traceback": [
      "\u001b[0;31m---------------------------------------------------------------------------\u001b[0m",
      "\u001b[0;31mImportError\u001b[0m                               Traceback (most recent call last)",
      "\u001b[0;32m/tmp/ipykernel_41/3417050095.py\u001b[0m in \u001b[0;36m<module>\u001b[0;34m\u001b[0m\n\u001b[1;32m     16\u001b[0m     \u001b[0mVectorLogSink\u001b[0m\u001b[0;34m,\u001b[0m\u001b[0;34m\u001b[0m\u001b[0;34m\u001b[0m\u001b[0m\n\u001b[1;32m     17\u001b[0m )\n\u001b[0;32m---> 18\u001b[0;31m \u001b[0;32mfrom\u001b[0m \u001b[0mpydrake\u001b[0m\u001b[0;34m.\u001b[0m\u001b[0mgeometry\u001b[0m \u001b[0;32mimport\u001b[0m \u001b[0m_MakeConvexHull\u001b[0m\u001b[0;34m\u001b[0m\u001b[0;34m\u001b[0m\u001b[0m\n\u001b[0m\u001b[1;32m     19\u001b[0m \u001b[0;34m\u001b[0m\u001b[0m\n\u001b[1;32m     20\u001b[0m \u001b[0;32mfrom\u001b[0m \u001b[0mmanipulation\u001b[0m \u001b[0;32mimport\u001b[0m \u001b[0mrunning_as_notebook\u001b[0m\u001b[0;34m\u001b[0m\u001b[0;34m\u001b[0m\u001b[0m\n",
      "\u001b[0;31mImportError\u001b[0m: cannot import name '_MakeConvexHull' from 'pydrake.geometry' (/usr/local/lib/python3.10/dist-packages/pydrake/geometry/__init__.cpython-310-x86_64-linux-gnu.so)"
     ]
    }
   ],
   "source": [
    "import mpld3\n",
    "import numpy as np\n",
    "from IPython.display import HTML, display\n",
    "from pydrake.all import (\n",
    "    Box,\n",
    "    ConnectPlanarSceneGraphVisualizer,\n",
    "    CoulombFriction,\n",
    "    DiagramBuilder,\n",
    "    JacobianWrtVariable,\n",
    "    LeafSystem,\n",
    "    RigidTransform,\n",
    "    RollPitchYaw,\n",
    "    Simulator,\n",
    "    SpatialInertia,\n",
    "    UnitInertia,\n",
    "    VectorLogSink,\n",
    ")\n",
    "from pydrake.geometry import _MakeConvexHull\n",
    "\n",
    "from manipulation import running_as_notebook\n",
    "from manipulation.scenarios import MakeManipulationStation\n",
    "\n",
    "if running_as_notebook:\n",
    "    mpld3.enable_notebook()\n"
   ]
  },
  {
   "cell_type": "code",
   "execution_count": null,
   "id": "32d3b114-fec9-4371-a5a8-72ed28714cd0",
   "metadata": {},
   "outputs": [],
   "source": []
  }
 ],
 "metadata": {
  "kernelspec": {
   "display_name": "Python 3 (ipykernel)",
   "language": "python",
   "name": "python3"
  },
  "language_info": {
   "codemirror_mode": {
    "name": "ipython",
    "version": 3
   },
   "file_extension": ".py",
   "mimetype": "text/x-python",
   "name": "python",
   "nbconvert_exporter": "python",
   "pygments_lexer": "ipython3",
   "version": "3.10.12"
  }
 },
 "nbformat": 4,
 "nbformat_minor": 5
}
